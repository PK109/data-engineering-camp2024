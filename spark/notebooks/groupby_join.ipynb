{
 "cells": [
  {
   "cell_type": "code",
   "execution_count": 1,
   "id": "4e6729f6-b96b-4a94-8991-e7a299eeca24",
   "metadata": {},
   "outputs": [],
   "source": [
    "import pyspark\n",
    "from pyspark.sql import SparkSession\n",
    "from pyspark.sql import types, functions as F"
   ]
  },
  {
   "cell_type": "code",
   "execution_count": 2,
   "id": "999b56a0-6224-4f05-aadb-6569d9c77acd",
   "metadata": {},
   "outputs": [
    {
     "name": "stdout",
     "output_type": "stream",
     "text": [
      "24/08/07 12:25:41 WARN Utils: Your hostname, codespaces-0918c7 resolves to a loopback address: 127.0.0.1; using 10.0.4.201 instead (on interface eth0)\n",
      "24/08/07 12:25:41 WARN Utils: Set SPARK_LOCAL_IP if you need to bind to another address\n"
     ]
    },
    {
     "name": "stderr",
     "output_type": "stream",
     "text": [
      "Setting default log level to \"WARN\".\n",
      "To adjust logging level use sc.setLogLevel(newLevel). For SparkR, use setLogLevel(newLevel).\n"
     ]
    },
    {
     "name": "stdout",
     "output_type": "stream",
     "text": [
      "24/08/07 12:25:42 WARN NativeCodeLoader: Unable to load native-hadoop library for your platform... using builtin-java classes where applicable\n"
     ]
    }
   ],
   "source": [
    "spark = SparkSession.builder \\\n",
    "    .master(\"local[*]\") \\\n",
    "    .appName('test') \\\n",
    "    .getOrCreate()"
   ]
  },
  {
   "cell_type": "code",
   "execution_count": 3,
   "id": "c5ae2ae6-d120-4b73-8e7c-d88291009c50",
   "metadata": {},
   "outputs": [],
   "source": [
    "data_green = 'taxi_data/green/pq/*/'\n",
    "data_yellow = 'taxi_data/yellow/pq/*/'"
   ]
  },
  {
   "cell_type": "code",
   "execution_count": 4,
   "id": "58f23ec1-fa95-4f6b-bc24-3466b3e24b28",
   "metadata": {},
   "outputs": [],
   "source": [
    "green_schema = types.StructType([\n",
    "    types.StructField('VendorID', types.IntegerType(), True),\n",
    "    types.StructField('pickup_datetime', types.TimestampType(), True),\n",
    "    types.StructField('dropoff_datetime', types.TimestampType(), True),\n",
    "    types.StructField('store_and_fwd_flag', types.StringType(), True),\n",
    "    types.StructField('RatecodeID', types.IntegerType(), True),\n",
    "    types.StructField('PULocationID', types.IntegerType(), True),\n",
    "    types.StructField('DOLocationID', types.IntegerType(), True),\n",
    "    types.StructField('passenger_count', types.IntegerType(), True),\n",
    "    types.StructField('trip_distance', types.DoubleType(), True),\n",
    "    types.StructField('fare_amount', types.DoubleType(), True),\n",
    "    types.StructField('extra', types.DoubleType(), True),\n",
    "    types.StructField('mta_tax', types.DoubleType(), True),\n",
    "    types.StructField('tip_amount', types.DoubleType(), True),\n",
    "    types.StructField('tolls_amount', types.DoubleType(), True),\n",
    "    types.StructField('ehail_fee', types.DoubleType(), True),\n",
    "    types.StructField('improvement_surcharge', types.DoubleType(), True),\n",
    "    types.StructField('total_amount', types.DoubleType(), True),\n",
    "    types.StructField('payment_type', types.IntegerType(), True),\n",
    "    types.StructField('trip_type', types.IntegerType(), True),\n",
    "    types.StructField('congestion_surcharge', types.DoubleType(), True)\n",
    "])"
   ]
  },
  {
   "cell_type": "code",
   "execution_count": 5,
   "id": "c3abaf77-570f-4f19-bfbb-a40572059380",
   "metadata": {
    "scrolled": true
   },
   "outputs": [],
   "source": [
    "df_green = spark.read \\\n",
    "    .schema(green_schema) \\\n",
    "    .parquet(data_green)"
   ]
  },
  {
   "cell_type": "code",
   "execution_count": 6,
   "id": "9570de62-5801-4a09-9899-8de6e0fbb28f",
   "metadata": {},
   "outputs": [
    {
     "name": "stderr",
     "output_type": "stream",
     "text": [
      "                                                                                \r"
     ]
    }
   ],
   "source": [
    "df_yellow = spark.read \\\n",
    "    .parquet(data_yellow)"
   ]
  },
  {
   "cell_type": "code",
   "execution_count": 7,
   "id": "2188f2ee-4c60-4377-9dd2-d129c1006391",
   "metadata": {},
   "outputs": [],
   "source": [
    "df_yellow = df_yellow \\\n",
    "    .withColumnRenamed('tpep_pickup_datetime', 'pickup_datetime') \\\n",
    "    .withColumnRenamed('tpep_dropoff_datetime', 'dropoff_datetime')"
   ]
  },
  {
   "cell_type": "code",
   "execution_count": 8,
   "id": "82d997f1-140e-4bd6-853a-0c36df33d3a0",
   "metadata": {},
   "outputs": [],
   "source": [
    "df_green.createOrReplaceTempView('green_data')"
   ]
  },
  {
   "cell_type": "code",
   "execution_count": 9,
   "id": "17b9050d-a4b8-4b64-a760-059d43c965ef",
   "metadata": {},
   "outputs": [],
   "source": [
    "df_yellow.createOrReplaceTempView('yellow_data')"
   ]
  },
  {
   "cell_type": "code",
   "execution_count": 10,
   "id": "27995039-a3ff-42c8-9eb5-9e916c9c1934",
   "metadata": {},
   "outputs": [],
   "source": [
    "df_result_green = spark.sql(\"\"\"\n",
    "SELECT \n",
    "    PULocationID AS zone,\n",
    "    date_trunc('hour', pickup_datetime) AS revenue_hour, \n",
    "\n",
    "    SUM(total_amount) AS amount,\n",
    "    COUNT(1) AS number_records\n",
    "FROM\n",
    "    green_data\n",
    "WHERE pickup_datetime > '2020-01-01'\n",
    "GROUP BY\n",
    "    zone,revenue_hour\n",
    "\"\"\")"
   ]
  },
  {
   "cell_type": "code",
   "execution_count": 11,
   "id": "2141ddcb-b904-40fe-bcb5-980626f809f3",
   "metadata": {},
   "outputs": [],
   "source": [
    "df_result_yellow = spark.sql(\"\"\"\n",
    "SELECT \n",
    "    PULocationID AS zone,\n",
    "    date_trunc('hour', pickup_datetime) AS revenue_hour, \n",
    "\n",
    "    SUM(total_amount) AS amount,\n",
    "    COUNT(1) AS number_records\n",
    "FROM\n",
    "    yellow_data\n",
    "WHERE pickup_datetime > '2020-01-01'\n",
    "GROUP BY\n",
    "    zone,revenue_hour\n",
    "\"\"\")"
   ]
  },
  {
   "cell_type": "code",
   "execution_count": null,
   "id": "a775b308-8708-415b-b9df-46235c5eb5ba",
   "metadata": {
    "scrolled": true
   },
   "outputs": [],
   "source": [
    "# df_result_yellow.show()"
   ]
  },
  {
   "cell_type": "code",
   "execution_count": null,
   "id": "889f349d-865a-40db-9c73-a40f13c9a65e",
   "metadata": {},
   "outputs": [],
   "source": [
    "# df_result_green.write.parquet('taxi_data/report/revenue/green', mode='overwrite')"
   ]
  },
  {
   "cell_type": "code",
   "execution_count": null,
   "id": "20be6e7a-375a-46db-92b3-a6cd7049074a",
   "metadata": {},
   "outputs": [
    {
     "name": "stderr",
     "output_type": "stream",
     "text": [
      "                                                                                \r"
     ]
    }
   ],
   "source": [
    "# df_result_yellow \\\n",
    "#     .repartition(20) \\\n",
    "#     .write.parquet('taxi_data/report/revenue/yellow', mode='overwrite')"
   ]
  },
  {
   "cell_type": "code",
   "execution_count": 15,
   "id": "e4b9b4da-e98a-4b51-9925-b54d249d6a11",
   "metadata": {},
   "outputs": [],
   "source": [
    "df_result_green = df_result_green \\\n",
    "    .withColumnRenamed('amount', 'green_amount') \\\n",
    "    .withColumnRenamed('number_records', 'green_number_records')\n",
    "\n",
    "df_result_yellow = df_result_yellow \\\n",
    "    .withColumnRenamed('amount', 'yellow_amount') \\\n",
    "    .withColumnRenamed('number_records', 'yellow_number_records')"
   ]
  },
  {
   "cell_type": "code",
   "execution_count": 16,
   "id": "30068261-9b43-470b-a7d6-4483ae330d33",
   "metadata": {},
   "outputs": [],
   "source": [
    "df_join =df_result_green.join(df_result_yellow, on=['revenue_hour', 'zone'], how='outer')"
   ]
  },
  {
   "cell_type": "code",
   "execution_count": 18,
   "id": "6cfa76ae-9ca1-4eac-ad10-65d87bdbf405",
   "metadata": {},
   "outputs": [
    {
     "name": "stderr",
     "output_type": "stream",
     "text": [
      "                                                                                \r"
     ]
    }
   ],
   "source": [
    "df_join \\\n",
    "    .repartition(20) \\\n",
    "    .write.parquet('taxi_data/report/revenue/total', mode='overwrite')"
   ]
  },
  {
   "cell_type": "code",
   "execution_count": 19,
   "id": "414d865f-2482-4a46-b64c-92906fd2ed20",
   "metadata": {},
   "outputs": [],
   "source": [
    "df_join = spark.read.parquet('taxi_data/report/revenue/total')\n",
    "df_zones = spark.read.parquet('taxi_data/zones')"
   ]
  },
  {
   "cell_type": "code",
   "execution_count": 21,
   "id": "7b159d6a-ce1b-4650-a218-a8c1b4ed725a",
   "metadata": {},
   "outputs": [
    {
     "data": {
      "text/plain": [
       "DataFrame[revenue_hour: timestamp, zone: int, green_amount: double, green_number_records: bigint, yellow_amount: double, yellow_number_records: bigint, Borough: string, Zone: string, service_zone: string]"
      ]
     },
     "execution_count": 21,
     "metadata": {},
     "output_type": "execute_result"
    }
   ],
   "source": [
    "df_result = df_join.join(df_zones, df_join.zone == df_zones.LocationID)\n",
    "df_result.drop('LocationID')"
   ]
  },
  {
   "cell_type": "code",
   "execution_count": 23,
   "id": "ff14e5d7-0c6a-4074-89e8-cee0fb37d07c",
   "metadata": {},
   "outputs": [
    {
     "name": "stderr",
     "output_type": "stream",
     "text": [
      "                                                                                \r"
     ]
    }
   ],
   "source": [
    "df_result.drop('zone', 'LocationID').write.parquet('taxi_data/temp/revenue-zones')"
   ]
  },
  {
   "cell_type": "code",
   "execution_count": null,
   "id": "b2b55473-7bdf-4519-b40d-c2d1196d89d4",
   "metadata": {},
   "outputs": [],
   "source": []
  }
 ],
 "metadata": {
  "kernelspec": {
   "display_name": "Python 3 (ipykernel)",
   "language": "python",
   "name": "python3"
  },
  "language_info": {
   "codemirror_mode": {
    "name": "ipython",
    "version": 3
   },
   "file_extension": ".py",
   "mimetype": "text/x-python",
   "name": "python",
   "nbconvert_exporter": "python",
   "pygments_lexer": "ipython3",
   "version": "3.10.13"
  }
 },
 "nbformat": 4,
 "nbformat_minor": 5
}
