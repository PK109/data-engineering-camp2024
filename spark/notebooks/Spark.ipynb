{
 "cells": [
  {
   "cell_type": "code",
   "execution_count": 2,
   "id": "4e6729f6-b96b-4a94-8991-e7a299eeca24",
   "metadata": {},
   "outputs": [],
   "source": [
    "import pyspark\n",
    "from pathlib import Path\n",
    "from pyspark.sql import SparkSession"
   ]
  },
  {
   "cell_type": "code",
   "execution_count": 3,
   "id": "999b56a0-6224-4f05-aadb-6569d9c77acd",
   "metadata": {},
   "outputs": [
    {
     "name": "stdout",
     "output_type": "stream",
     "text": [
      "24/08/05 19:33:17 WARN Utils: Your hostname, codespaces-0918c7 resolves to a loopback address: 127.0.0.1; using 10.0.1.86 instead (on interface eth0)\n",
      "24/08/05 19:33:17 WARN Utils: Set SPARK_LOCAL_IP if you need to bind to another address\n"
     ]
    },
    {
     "name": "stderr",
     "output_type": "stream",
     "text": [
      "Setting default log level to \"WARN\".\n",
      "To adjust logging level use sc.setLogLevel(newLevel). For SparkR, use setLogLevel(newLevel).\n"
     ]
    },
    {
     "name": "stdout",
     "output_type": "stream",
     "text": [
      "24/08/05 19:33:19 WARN NativeCodeLoader: Unable to load native-hadoop library for your platform... using builtin-java classes where applicable\n"
     ]
    }
   ],
   "source": [
    "spark = SparkSession.builder \\\n",
    "    .master(\"local[*]\") \\\n",
    "    .appName('test') \\\n",
    "    .getOrCreate()\n",
    "spark.conf.set(\"spark.sql.parquet.enableVectorizedReader\",\"false\")"
   ]
  },
  {
   "cell_type": "code",
   "execution_count": 4,
   "id": "c5ae2ae6-d120-4b73-8e7c-d88291009c50",
   "metadata": {},
   "outputs": [],
   "source": [
    "data_folder = Path('../../data')\n",
    "fhv = data_folder / Path(\"fhvhv_tripdata_2021-01.parquet\")"
   ]
  },
  {
   "cell_type": "markdown",
   "id": "58db3d85-dc4e-44e4-844d-f1020b3766b6",
   "metadata": {},
   "source": [
    "!wget https://d37ci6vzurychx.cloudfront.net/trip-data/fhvhv_tripdata_2021-01.parquet"
   ]
  },
  {
   "cell_type": "code",
   "execution_count": 5,
   "id": "b25ee24e-746c-4dc1-a104-09d12d0c4f3d",
   "metadata": {
    "editable": true,
    "scrolled": true,
    "slideshow": {
     "slide_type": ""
    },
    "tags": []
   },
   "outputs": [
    {
     "name": "stderr",
     "output_type": "stream",
     "text": [
      "[Stage 2:=============================>                             (1 + 1) / 2]\r"
     ]
    },
    {
     "name": "stdout",
     "output_type": "stream",
     "text": [
      "+-----------------+--------------------+-------------------+-------------------+------------+------------+-------------------+\n",
      "|hvfhs_license_num|dispatching_base_num|    pickup_datetime|   dropoff_datetime|PULocationID|DOLocationID|shared_request_flag|\n",
      "+-----------------+--------------------+-------------------+-------------------+------------+------------+-------------------+\n",
      "|           HV0003|              B02682|2021-01-01 00:33:44|2021-01-01 00:49:07|         230|         166|                  N|\n",
      "|           HV0003|              B02682|2021-01-01 00:55:19|2021-01-01 01:18:21|         152|         167|                  N|\n",
      "|           HV0003|              B02764|2021-01-01 00:23:56|2021-01-01 00:38:05|         233|         142|                  N|\n",
      "|           HV0003|              B02764|2021-01-01 00:42:51|2021-01-01 00:45:50|         142|         143|                  N|\n",
      "|           HV0003|              B02764|2021-01-01 00:48:14|2021-01-01 01:08:42|         143|          78|                  N|\n",
      "|           HV0005|              B02510|2021-01-01 00:06:59|2021-01-01 00:43:01|          88|          42|                  N|\n",
      "|           HV0005|              B02510|2021-01-01 00:50:00|2021-01-01 01:04:57|          42|         151|                  N|\n",
      "|           HV0003|              B02764|2021-01-01 00:14:30|2021-01-01 00:50:27|          71|         226|                  N|\n",
      "|           HV0003|              B02875|2021-01-01 00:22:54|2021-01-01 00:30:20|         112|         255|                  N|\n",
      "|           HV0003|              B02875|2021-01-01 00:40:12|2021-01-01 00:53:31|         255|         232|                  N|\n",
      "|           HV0003|              B02875|2021-01-01 00:56:45|2021-01-01 01:17:42|         232|         198|                  N|\n",
      "|           HV0003|              B02835|2021-01-01 00:29:04|2021-01-01 00:36:27|         113|          48|                  N|\n",
      "|           HV0003|              B02835|2021-01-01 00:48:56|2021-01-01 00:59:12|         239|          75|                  N|\n",
      "|           HV0004|              B02800|2021-01-01 00:15:24|2021-01-01 00:38:31|         181|         237|                  N|\n",
      "|           HV0004|              B02800|2021-01-01 00:45:00|2021-01-01 01:06:45|         236|          68|                  N|\n",
      "|           HV0003|              B02682|2021-01-01 00:11:53|2021-01-01 00:18:06|         256|         148|                  N|\n",
      "|           HV0003|              B02682|2021-01-01 00:28:31|2021-01-01 00:41:40|          79|          80|                  N|\n",
      "|           HV0003|              B02682|2021-01-01 00:50:49|2021-01-01 00:55:59|          17|         217|                  N|\n",
      "|           HV0005|              B02510|2021-01-01 00:08:40|2021-01-01 00:39:39|          62|          29|                  N|\n",
      "|           HV0003|              B02836|2021-01-01 00:53:48|2021-01-01 01:11:40|          22|          22|                  N|\n",
      "+-----------------+--------------------+-------------------+-------------------+------------+------------+-------------------+\n",
      "only showing top 20 rows\n",
      "\n"
     ]
    },
    {
     "name": "stderr",
     "output_type": "stream",
     "text": [
      "                                                                                \r"
     ]
    }
   ],
   "source": [
    "df = spark.read \\\n",
    "    .option(\"header\", \"true\") \\\n",
    "    .parquet(str(fhv))\n",
    "\n",
    "selected_columns = ['hvfhs_license_num',\n",
    "     'dispatching_base_num',\n",
    "    'pickup_datetime',\n",
    "    'dropoff_datetime',\n",
    "    'PULocationID',\n",
    "     'DOLocationID',\n",
    "    'shared_request_flag'\n",
    "    ]\n",
    "\n",
    "df = df[selected_columns]\n",
    "df.show()"
   ]
  },
  {
   "cell_type": "code",
   "execution_count": 6,
   "id": "bf8f539b-f67a-4c76-be74-ef57266922f2",
   "metadata": {},
   "outputs": [
    {
     "data": {
      "text/plain": [
       "[('hvfhs_license_num', 'string'),\n",
       " ('dispatching_base_num', 'string'),\n",
       " ('pickup_datetime', 'timestamp'),\n",
       " ('dropoff_datetime', 'timestamp'),\n",
       " ('PULocationID', 'bigint'),\n",
       " ('DOLocationID', 'bigint'),\n",
       " ('shared_request_flag', 'string')]"
      ]
     },
     "execution_count": 6,
     "metadata": {},
     "output_type": "execute_result"
    }
   ],
   "source": [
    "df.dtypes"
   ]
  },
  {
   "cell_type": "code",
   "execution_count": 7,
   "id": "c8f94850-b17e-45c2-833c-8759fadc675e",
   "metadata": {},
   "outputs": [
    {
     "data": {
      "text/plain": [
       "StructType([StructField('hvfhs_license_num', StringType(), True), StructField('dispatching_base_num', StringType(), True), StructField('pickup_datetime', TimestampType(), True), StructField('dropoff_datetime', TimestampType(), True), StructField('PULocationID', LongType(), True), StructField('DOLocationID', LongType(), True), StructField('shared_request_flag', StringType(), True)])"
      ]
     },
     "execution_count": 7,
     "metadata": {},
     "output_type": "execute_result"
    }
   ],
   "source": [
    "df.schema"
   ]
  },
  {
   "cell_type": "code",
   "execution_count": 8,
   "id": "e36be8ea-a5a8-49d8-a6e4-385db0090d1e",
   "metadata": {},
   "outputs": [],
   "source": [
    "from pyspark.sql import types"
   ]
  },
  {
   "cell_type": "code",
   "execution_count": 9,
   "id": "d9a50fa9-834e-406d-8c95-0980ae3e6748",
   "metadata": {},
   "outputs": [],
   "source": [
    "schema = types.StructType([\n",
    "    types.StructField('hvfhs_license_num', types.StringType(), True),\n",
    "    types.StructField('dispatching_base_num', types.StringType(), True),\n",
    "    types.StructField('pickup_datetime', types.TimestampType(), True),\n",
    "    types.StructField('dropoff_datetime', types.TimestampType(), True),\n",
    "    types.StructField('PULocationID', types.IntegerType(), True),\n",
    "    types.StructField('DOLocationID', types.IntegerType(), True),\n",
    "    types.StructField('shared_request_flag', types.StringType(), True)\n",
    "])\n"
   ]
  },
  {
   "cell_type": "code",
   "execution_count": 12,
   "id": "811a9657-6dc7-4cc1-a4c8-ebbf37923798",
   "metadata": {},
   "outputs": [],
   "source": [
    "df = spark.read \\\n",
    "    .option(\"inferSchema\",\"false\") \\\n",
    "    .parquet(str(fhv))\n",
    "    # .schema(schema) \\\n",
    "df = df[selected_columns]"
   ]
  },
  {
   "cell_type": "code",
   "execution_count": 13,
   "id": "382bdae2-2900-4d50-97b3-d1848b6b5cd8",
   "metadata": {},
   "outputs": [
    {
     "data": {
      "text/plain": [
       "StructType([StructField('hvfhs_license_num', StringType(), True), StructField('dispatching_base_num', StringType(), True), StructField('pickup_datetime', TimestampType(), True), StructField('dropoff_datetime', TimestampType(), True), StructField('PULocationID', LongType(), True), StructField('DOLocationID', LongType(), True), StructField('shared_request_flag', StringType(), True)])"
      ]
     },
     "execution_count": 13,
     "metadata": {},
     "output_type": "execute_result"
    }
   ],
   "source": [
    "df.schema"
   ]
  },
  {
   "cell_type": "code",
   "execution_count": 19,
   "id": "05359fb1-2b82-4d1b-9aa8-bff9c4221d13",
   "metadata": {},
   "outputs": [],
   "source": [
    "df = df.repartition(24)"
   ]
  },
  {
   "cell_type": "code",
   "execution_count": 21,
   "id": "bc2a05ca-235a-4d19-88f9-81e51ee24315",
   "metadata": {},
   "outputs": [
    {
     "name": "stderr",
     "output_type": "stream",
     "text": [
      "                                                                                \r"
     ]
    }
   ],
   "source": [
    "df.write.parquet(str(data_folder / Path('fhvhv/2021/1')), mode = 'overwrite')"
   ]
  },
  {
   "cell_type": "code",
   "execution_count": 22,
   "id": "5d84bffc-9427-46d4-93f1-8ebb9a5cde09",
   "metadata": {},
   "outputs": [],
   "source": [
    "df = spark.read.parquet(str(data_folder / Path('fhvhv/2021/1')))"
   ]
  },
  {
   "cell_type": "code",
   "execution_count": 23,
   "id": "ba69841c-27a5-435f-8acb-f53f2a8e8fee",
   "metadata": {},
   "outputs": [
    {
     "name": "stdout",
     "output_type": "stream",
     "text": [
      "root\n",
      " |-- hvfhs_license_num: string (nullable = true)\n",
      " |-- dispatching_base_num: string (nullable = true)\n",
      " |-- pickup_datetime: timestamp (nullable = true)\n",
      " |-- dropoff_datetime: timestamp (nullable = true)\n",
      " |-- PULocationID: long (nullable = true)\n",
      " |-- DOLocationID: long (nullable = true)\n",
      " |-- shared_request_flag: string (nullable = true)\n",
      "\n"
     ]
    }
   ],
   "source": [
    "df.printSchema()"
   ]
  },
  {
   "cell_type": "code",
   "execution_count": 25,
   "id": "0d31045b-f05e-49e0-90cc-ca3675665e7f",
   "metadata": {},
   "outputs": [
    {
     "name": "stdout",
     "output_type": "stream",
     "text": [
      "+-------------------+-------------------+------------+------------+\n",
      "|    pickup_datetime|   dropoff_datetime|PULocationID|DOLocationID|\n",
      "+-------------------+-------------------+------------+------------+\n",
      "|2021-01-14 13:43:59|2021-01-14 14:12:17|         198|         234|\n",
      "|2021-01-01 03:13:23|2021-01-01 04:04:00|          65|         265|\n",
      "|2021-01-11 18:38:11|2021-01-11 19:10:54|         258|          52|\n",
      "|2021-01-27 18:03:59|2021-01-27 18:11:14|         116|         244|\n",
      "|2021-01-31 08:21:46|2021-01-31 08:30:52|         241|          18|\n",
      "|2021-01-28 11:48:42|2021-01-28 12:02:24|         196|          82|\n",
      "|2021-01-30 14:46:53|2021-01-30 14:59:23|         227|          14|\n",
      "|2021-01-28 12:06:37|2021-01-28 12:19:05|         174|          18|\n",
      "|2021-01-30 05:37:52|2021-01-30 05:48:28|         205|         130|\n",
      "|2021-01-01 05:05:59|2021-01-01 05:24:16|          53|           7|\n",
      "+-------------------+-------------------+------------+------------+\n",
      "only showing top 10 rows\n",
      "\n"
     ]
    }
   ],
   "source": [
    "df.select('pickup_datetime', 'dropoff_datetime', 'PULocationID', 'DOLocationID')\\\n",
    "    .filter( df['hvfhs_license_num'] == 'HV0003').show(10)"
   ]
  },
  {
   "cell_type": "code",
   "execution_count": 26,
   "id": "9c594d7b-8183-41c2-aea9-647d48dde839",
   "metadata": {},
   "outputs": [],
   "source": [
    "from pyspark.sql import functions as F"
   ]
  },
  {
   "cell_type": "code",
   "execution_count": 28,
   "id": "e1706db6-f9e2-4ed4-8377-03497df9f48a",
   "metadata": {},
   "outputs": [
    {
     "name": "stdout",
     "output_type": "stream",
     "text": [
      "+-----------------+--------------------+-------------------+-------------------+------------+------------+-------------------+-----------+------------+\n",
      "|hvfhs_license_num|dispatching_base_num|    pickup_datetime|   dropoff_datetime|PULocationID|DOLocationID|shared_request_flag|pickup_date|dropoff_date|\n",
      "+-----------------+--------------------+-------------------+-------------------+------------+------------+-------------------+-----------+------------+\n",
      "|           HV0003|              B02764|2021-01-14 13:43:59|2021-01-14 14:12:17|         198|         234|                  N| 2021-01-14|  2021-01-14|\n",
      "|           HV0003|              B02764|2021-01-01 03:13:23|2021-01-01 04:04:00|          65|         265|                  N| 2021-01-01|  2021-01-01|\n",
      "|           HV0003|              B02682|2021-01-11 18:38:11|2021-01-11 19:10:54|         258|          52|                  N| 2021-01-11|  2021-01-11|\n",
      "|           HV0005|              B02510|2021-01-26 08:19:47|2021-01-26 08:32:23|         239|         244|                  N| 2021-01-26|  2021-01-26|\n",
      "|           HV0003|              B02875|2021-01-27 18:03:59|2021-01-27 18:11:14|         116|         244|                  N| 2021-01-27|  2021-01-27|\n",
      "|           HV0003|              B02764|2021-01-31 08:21:46|2021-01-31 08:30:52|         241|          18|                  N| 2021-01-31|  2021-01-31|\n",
      "|           HV0003|              B02878|2021-01-28 11:48:42|2021-01-28 12:02:24|         196|          82|                  N| 2021-01-28|  2021-01-28|\n",
      "|           HV0005|              B02510|2021-01-03 12:51:45|2021-01-03 13:17:41|         261|           1|                  N| 2021-01-03|  2021-01-03|\n",
      "|           HV0003|              B02876|2021-01-30 14:46:53|2021-01-30 14:59:23|         227|          14|                  N| 2021-01-30|  2021-01-30|\n",
      "|           HV0003|              B02871|2021-01-28 12:06:37|2021-01-28 12:19:05|         174|          18|                  N| 2021-01-28|  2021-01-28|\n",
      "+-----------------+--------------------+-------------------+-------------------+------------+------------+-------------------+-----------+------------+\n",
      "only showing top 10 rows\n",
      "\n"
     ]
    }
   ],
   "source": [
    "df \\\n",
    "    .withColumn('pickup_date', F.to_date(df.pickup_datetime))  \\\n",
    "    .withColumn('dropoff_date', F.to_date(df.dropoff_datetime))  \\\n",
    "    .show(10)"
   ]
  },
  {
   "cell_type": "code",
   "execution_count": 42,
   "id": "eed3c448-3280-45c6-95a8-2bf948e5cd4e",
   "metadata": {},
   "outputs": [],
   "source": [
    "def sample_func(base_num):\n",
    "    num = int (base_num[2:])\n",
    "    if num % 7 == 0:\n",
    "        return f's/{num:03x}'\n",
    "    else:\n",
    "        return f'e/{num:03x}'\n",
    "        "
   ]
  },
  {
   "cell_type": "code",
   "execution_count": 43,
   "id": "f10caf40-dbc2-4932-a6d8-15f6904ed7f8",
   "metadata": {},
   "outputs": [
    {
     "data": {
      "text/plain": [
       "'s/4d0'"
      ]
     },
     "execution_count": 43,
     "metadata": {},
     "output_type": "execute_result"
    }
   ],
   "source": [
    "sample_func('HV01232')"
   ]
  },
  {
   "cell_type": "code",
   "execution_count": 44,
   "id": "51331f65-9d46-4140-8d16-45861d47ca35",
   "metadata": {},
   "outputs": [],
   "source": [
    "sample_func_udf = F.udf(sample_func, returnType=types.StringType())"
   ]
  },
  {
   "cell_type": "code",
   "execution_count": 45,
   "id": "448fa03d-dc1c-4757-bdc5-2e10600ccef6",
   "metadata": {},
   "outputs": [
    {
     "name": "stdout",
     "output_type": "stream",
     "text": [
      "+-----------+------------+------------+------------+-------+\n",
      "|pickup_date|dropoff_date|PULocationID|DOLocationID|base_id|\n",
      "+-----------+------------+------------+------------+-------+\n",
      "| 2021-01-14|  2021-01-14|         198|         234|  e/acc|\n",
      "| 2021-01-01|  2021-01-01|          65|         265|  e/acc|\n",
      "| 2021-01-11|  2021-01-11|         258|          52|  e/a7a|\n",
      "| 2021-01-26|  2021-01-26|         239|         244|  e/9ce|\n",
      "| 2021-01-27|  2021-01-27|         116|         244|  e/b3b|\n",
      "| 2021-01-31|  2021-01-31|         241|          18|  e/acc|\n",
      "| 2021-01-28|  2021-01-28|         196|          82|  e/b3e|\n",
      "| 2021-01-03|  2021-01-03|         261|           1|  e/9ce|\n",
      "| 2021-01-30|  2021-01-30|         227|          14|  e/b3c|\n",
      "| 2021-01-28|  2021-01-28|         174|          18|  e/b37|\n",
      "+-----------+------------+------------+------------+-------+\n",
      "only showing top 10 rows\n",
      "\n"
     ]
    },
    {
     "name": "stderr",
     "output_type": "stream",
     "text": [
      "                                                                                \r"
     ]
    }
   ],
   "source": [
    "df \\\n",
    "    .withColumn('pickup_date', F.to_date(df.pickup_datetime))  \\\n",
    "    .withColumn('dropoff_date', F.to_date(df.dropoff_datetime))  \\\n",
    "    .withColumn('base_id', sample_func_udf(df.dispatching_base_num))  \\\n",
    "    .select('pickup_date', 'dropoff_date', 'PULocationID', 'DOLocationID', 'base_id') \\\n",
    "    .show(10)"
   ]
  },
  {
   "cell_type": "code",
   "execution_count": null,
   "id": "f0b9d338-dce1-4481-a725-a766e933e429",
   "metadata": {},
   "outputs": [],
   "source": []
  }
 ],
 "metadata": {
  "kernelspec": {
   "display_name": "Python 3 (ipykernel)",
   "language": "python",
   "name": "python3"
  },
  "language_info": {
   "codemirror_mode": {
    "name": "ipython",
    "version": 3
   },
   "file_extension": ".py",
   "mimetype": "text/x-python",
   "name": "python",
   "nbconvert_exporter": "python",
   "pygments_lexer": "ipython3",
   "version": "3.10.13"
  }
 },
 "nbformat": 4,
 "nbformat_minor": 5
}
