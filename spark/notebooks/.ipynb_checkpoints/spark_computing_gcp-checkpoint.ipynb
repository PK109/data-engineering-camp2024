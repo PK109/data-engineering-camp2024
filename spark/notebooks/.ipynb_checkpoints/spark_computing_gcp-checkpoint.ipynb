{
 "cells": [
  {
   "cell_type": "code",
   "execution_count": 11,
   "id": "5fc0ba79-60e0-4558-a571-ae88d4804e13",
   "metadata": {},
   "outputs": [
    {
     "data": {
      "text/html": [
       "<style>.jp-Cell { margin-left: -20% !important; margin-right: -15% !important; }</style>"
      ],
      "text/plain": [
       "<IPython.core.display.HTML object>"
      ]
     },
     "metadata": {},
     "output_type": "display_data"
    }
   ],
   "source": [
    "# Works in Jupyter Notebook version 7.0.8\n",
    "from IPython.display import display, HTML\n",
    "display(HTML(\"<style>.jp-Cell { margin-left: -20% !important; margin-right: -15% !important; }</style>\"))"
   ]
  },
  {
   "cell_type": "code",
   "execution_count": 1,
   "id": "4e6729f6-b96b-4a94-8991-e7a299eeca24",
   "metadata": {},
   "outputs": [],
   "source": [
    "import pyspark\n",
    "from pyspark.sql import SparkSession\n",
    "from pyspark.conf import SparkConf\n",
    "from pyspark.context import SparkContext\n",
    "from pyspark.sql import types, functions as F"
   ]
  },
  {
   "cell_type": "code",
   "execution_count": 2,
   "id": "72287867-c6bd-481b-afbf-954cef6fe127",
   "metadata": {},
   "outputs": [],
   "source": [
    "credentials_location = '/workspaces/data-engineering-camp2024/keys/my-keys.json'\n",
    "\n",
    "conf = SparkConf() \\\n",
    "    .setMaster('local[*]') \\\n",
    "    .setAppName('test') \\\n",
    "    .set(\"spark.jars\", \"../lib/gcs-connector-hadoop3-2.2.5.jar\") \\\n",
    "    .set(\"spark.hadoop.google.cloud.auth.service.account.enable\", \"true\") \\\n",
    "    .set(\"spark.hadoop.google.cloud.auth.service.account.json.keyfile\", credentials_location)"
   ]
  },
  {
   "cell_type": "code",
   "execution_count": 3,
   "id": "2216680a-15d3-4532-b88b-43577783f019",
   "metadata": {},
   "outputs": [
    {
     "name": "stdout",
     "output_type": "stream",
     "text": [
      "24/08/10 09:18:49 WARN Utils: Your hostname, codespaces-0918c7 resolves to a loopback address: 127.0.0.1; using 10.0.0.98 instead (on interface eth0)\n",
      "24/08/10 09:18:49 WARN Utils: Set SPARK_LOCAL_IP if you need to bind to another address\n",
      "24/08/10 09:18:49 WARN NativeCodeLoader: Unable to load native-hadoop library for your platform... using builtin-java classes where applicable\n"
     ]
    },
    {
     "name": "stderr",
     "output_type": "stream",
     "text": [
      "Setting default log level to \"WARN\".\n",
      "To adjust logging level use sc.setLogLevel(newLevel). For SparkR, use setLogLevel(newLevel).\n"
     ]
    }
   ],
   "source": [
    "sc = SparkContext(conf=conf)\n",
    "\n",
    "hadoop_conf = sc._jsc.hadoopConfiguration()\n",
    "\n",
    "hadoop_conf.set(\"fs.AbstractFileSystem.gs.impl\",  \"com.google.cloud.hadoop.fs.gcs.GoogleHadoopFS\")\n",
    "hadoop_conf.set(\"fs.gs.impl\", \"com.google.cloud.hadoop.fs.gcs.GoogleHadoopFileSystem\")\n",
    "hadoop_conf.set(\"fs.gs.auth.service.account.json.keyfile\", credentials_location)\n",
    "hadoop_conf.set(\"fs.gs.auth.service.account.enable\", \"true\")"
   ]
  },
  {
   "cell_type": "code",
   "execution_count": 4,
   "id": "999b56a0-6224-4f05-aadb-6569d9c77acd",
   "metadata": {},
   "outputs": [],
   "source": [
    "spark = SparkSession.builder \\\n",
    "    .config(conf= sc.getConf()) \\\n",
    "    .getOrCreate()"
   ]
  },
  {
   "cell_type": "code",
   "execution_count": 6,
   "id": "c5ae2ae6-d120-4b73-8e7c-d88291009c50",
   "metadata": {},
   "outputs": [],
   "source": [
    "gcs_href = r'gs://'\n",
    "data_green = gcs_href+'lateral-attic-426206-c4-spark-nytaxi-data/pq/green/pq/*'\n",
    "data_yellow = gcs_href+'lateral-attic-426206-c4-spark-nytaxi-data/pq/yellow/pq'"
   ]
  },
  {
   "cell_type": "code",
   "execution_count": null,
   "id": "b25ee24e-746c-4dc1-a104-09d12d0c4f3d",
   "metadata": {
    "editable": true,
    "scrolled": true,
    "slideshow": {
     "slide_type": ""
    },
    "tags": []
   },
   "outputs": [],
   "source": [
    "df_yellow = spark.read \\\n",
    "    .schema(yellow_schema) \\\n",
    "    .parquet(data_yellow)"
   ]
  },
  {
   "cell_type": "code",
   "execution_count": 7,
   "id": "c3abaf77-570f-4f19-bfbb-a40572059380",
   "metadata": {
    "scrolled": true
   },
   "outputs": [
    {
     "name": "stderr",
     "output_type": "stream",
     "text": [
      "                                                                                \r"
     ]
    }
   ],
   "source": [
    "df_green = spark.read \\\n",
    "    .parquet(data_green)"
   ]
  },
  {
   "cell_type": "code",
   "execution_count": null,
   "id": "0a08be41-931b-4314-a50f-9bff5e0e73bf",
   "metadata": {},
   "outputs": [],
   "source": [
    "df_green.show(10)"
   ]
  }
 ],
 "metadata": {
  "kernelspec": {
   "display_name": "Python 3 (ipykernel)",
   "language": "python",
   "name": "python3"
  },
  "language_info": {
   "codemirror_mode": {
    "name": "ipython",
    "version": 3
   },
   "file_extension": ".py",
   "mimetype": "text/x-python",
   "name": "python",
   "nbconvert_exporter": "python",
   "pygments_lexer": "ipython3",
   "version": "3.10.13"
  }
 },
 "nbformat": 4,
 "nbformat_minor": 5
}
