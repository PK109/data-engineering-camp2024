{
 "cells": [
  {
   "cell_type": "code",
   "execution_count": 17,
   "id": "4e6729f6-b96b-4a94-8991-e7a299eeca24",
   "metadata": {},
   "outputs": [],
   "source": [
    "import pyspark\n",
    "from pyspark.sql import SparkSession\n",
    "from pyspark.sql import types, functions as F"
   ]
  },
  {
   "cell_type": "code",
   "execution_count": 18,
   "id": "999b56a0-6224-4f05-aadb-6569d9c77acd",
   "metadata": {},
   "outputs": [],
   "source": [
    "spark = SparkSession.builder \\\n",
    "    .master(\"local[*]\") \\\n",
    "    .appName('test') \\\n",
    "    .config(\"spark.sql.legacy.parquet.nanosAsLong\", \"true\") \\\n",
    "    .getOrCreate()"
   ]
  },
  {
   "cell_type": "code",
   "execution_count": 19,
   "id": "c5ae2ae6-d120-4b73-8e7c-d88291009c50",
   "metadata": {},
   "outputs": [],
   "source": [
    "data_folder = 'taxi_data/'\n",
    "data_green = 'green/'\n",
    "data_yellow = 'yellow/'\n",
    "parquet = 'pq/'"
   ]
  },
  {
   "cell_type": "code",
   "execution_count": 20,
   "id": "f6323cdb-9eac-46ea-8748-5742add5b8ca",
   "metadata": {},
   "outputs": [],
   "source": [
    "yellow_schema = types.StructType([\n",
    "    types.StructField(\"VendorID\", types.IntegerType(), True),\n",
    "    types.StructField(\"tpep_pickup_datetime\", types.TimestampType(), True),\n",
    "    types.StructField(\"tpep_dropoff_datetime\", types.TimestampType(), True),\n",
    "    types.StructField(\"passenger_count\", types.IntegerType(), True),\n",
    "    types.StructField(\"trip_distance\", types.DoubleType(), True),\n",
    "    types.StructField(\"RatecodeID\", types.IntegerType(), True),\n",
    "    types.StructField(\"store_and_fwd_flag\", types.StringType(), True),\n",
    "    types.StructField(\"PULocationID\", types.IntegerType(), True),\n",
    "    types.StructField(\"DOLocationID\", types.IntegerType(), True),\n",
    "    types.StructField(\"payment_type\", types.IntegerType(), True),\n",
    "    types.StructField(\"fare_amount\", types.DoubleType(), True),\n",
    "    types.StructField(\"extra\", types.DoubleType(), True),\n",
    "    types.StructField(\"mta_tax\", types.DoubleType(), True),\n",
    "    types.StructField(\"tip_amount\", types.DoubleType(), True),\n",
    "    types.StructField(\"tolls_amount\", types.DoubleType(), True),\n",
    "    types.StructField(\"improvement_surcharge\", types.DoubleType(), True),\n",
    "    types.StructField(\"total_amount\", types.DoubleType(), True),\n",
    "    types.StructField(\"congestion_surcharge\", types.DoubleType(), True)\n",
    "])"
   ]
  },
  {
   "cell_type": "markdown",
   "id": "58db3d85-dc4e-44e4-844d-f1020b3766b6",
   "metadata": {},
   "source": [
    "!wget https://d37ci6vzurychx.cloudfront.net/trip-data/fhvhv_tripdata_2021-01.parquet"
   ]
  },
  {
   "cell_type": "code",
   "execution_count": null,
   "id": "b25ee24e-746c-4dc1-a104-09d12d0c4f3d",
   "metadata": {
    "editable": true,
    "scrolled": true,
    "slideshow": {
     "slide_type": ""
    },
    "tags": []
   },
   "outputs": [],
   "source": [
    "years = [2019, 2020]\n",
    "for year in years:\n",
    "    for month in range (1,13):\n",
    "        file_name = f'yellow_tripdata_{year}-{month:02d}.csv.gz'\n",
    "        pq_name = f'yellow_tripdata_{year}-{month:02d}.parquet'\n",
    "        print(f'Converting {file_name} to {pq_name}')\n",
    "        df_yellow = spark.read \\\n",
    "            .option(\"header\", \"true\") \\\n",
    "            .schema(yellow_schema) \\\n",
    "            .csv(data_folder+data_yellow+file_name)\n",
    "            # .option(\"inferSchema\",\"true\") \\ we can use it, but it very expensive in terms of computing and time\n",
    "    \n",
    "        df_yellow \\\n",
    "            .repartition(4) \\\n",
    "            .write.parquet(data_folder+data_yellow+parquet+pq_name)\n"
   ]
  },
  {
   "cell_type": "code",
   "execution_count": 41,
   "id": "c3abaf77-570f-4f19-bfbb-a40572059380",
   "metadata": {
    "scrolled": true
   },
   "outputs": [
    {
     "name": "stdout",
     "output_type": "stream",
     "text": [
      "+--------+--------------------+---------------------+------------------+----------+------------+------------+---------------+-------------+-----------+-----+-------+----------+------------+---------+---------------------+------------+------------+---------+--------------------+\n",
      "|VendorID|lpep_pickup_datetime|lpep_dropoff_datetime|store_and_fwd_flag|RatecodeID|PULocationID|DOLocationID|passenger_count|trip_distance|fare_amount|extra|mta_tax|tip_amount|tolls_amount|ehail_fee|improvement_surcharge|total_amount|payment_type|trip_type|congestion_surcharge|\n",
      "+--------+--------------------+---------------------+------------------+----------+------------+------------+---------------+-------------+-----------+-----+-------+----------+------------+---------+---------------------+------------+------------+---------+--------------------+\n",
      "|       2| 1545405449000000000|  1545405537000000000|                 N|         1|         264|         264|              5|          0.0|        3.0|  0.5|    0.5|       0.0|         0.0|     null|                  0.3|         4.3|           2|        1|                null|\n",
      "|       2| 1546301416000000000|  1546301792000000000|                 N|         1|          97|          49|              2|         0.86|        6.0|  0.5|    0.5|       0.0|         0.0|     null|                  0.3|         7.3|           2|        1|                null|\n",
      "|       2| 1546302431000000000|  1546302698000000000|                 N|         1|          49|         189|              2|         0.66|        4.5|  0.5|    0.5|       0.0|         0.0|     null|                  0.3|         5.8|           1|        1|                null|\n",
      "|       2| 1546303580000000000|  1546304694000000000|                 N|         1|         189|          17|              2|         2.68|       13.5|  0.5|    0.5|      2.96|         0.0|     null|                  0.3|       19.71|           1|        1|                null|\n",
      "|       2| 1546301946000000000|  1546303183000000000|                 N|         1|          82|         258|              1|         4.53|       18.0|  0.5|    0.5|       0.0|         0.0|     null|                  0.3|        19.3|           2|        1|                null|\n",
      "|       2| 1546301555000000000|  1546301949000000000|                 N|         1|          49|          17|              1|         1.05|        6.5|  0.5|    0.5|       0.0|         0.0|     null|                  0.3|         7.8|           1|        1|                null|\n",
      "|       2| 1546303675000000000|  1546304401000000000|                 N|         1|         255|          33|              1|         3.77|       13.5|  0.5|    0.5|       0.0|         0.0|     null|                  0.3|        14.8|           1|        1|                null|\n",
      "|       1| 1546301567000000000|  1546302650000000000|                 N|         1|          76|         225|              1|          4.1|       16.0|  0.5|    0.5|       0.0|         0.0|     null|                  0.3|        17.3|           1|        1|                null|\n",
      "|       2| 1546301783000000000|  1546303186000000000|                 N|         1|          25|          89|              1|         7.75|       25.5|  0.5|    0.5|       0.0|         0.0|     null|                  0.3|        26.8|           1|        1|                null|\n",
      "|       2| 1546304282000000000|  1546305542000000000|                 N|         1|          85|          39|              1|         3.68|       15.5|  0.5|    0.5|       0.0|         0.0|     null|                  0.3|        16.8|           1|        1|                null|\n",
      "|       2| 1546303020000000000|  1546304202000000000|                 N|         1|         223|         238|              1|         6.84|       22.0|  0.5|    0.5|       8.0|        5.76|     null|                  0.3|       37.06|           1|        1|                null|\n",
      "|       2| 1546301628000000000|  1546302060000000000|                 N|         1|         129|         129|              2|         1.15|        6.5|  0.5|    0.5|      1.56|         0.0|     null|                  0.3|        9.36|           1|        1|                null|\n",
      "|       2| 1546301999000000000|  1546303550000000000|                 N|         1|          71|          71|              1|         0.49|       15.5|  0.5|    0.5|       0.0|         0.0|     null|                  0.3|        16.8|           1|        1|                null|\n",
      "|       2| 1546304277000000000|  1546305610000000000|                 N|         1|          85|         177|              1|         3.61|       17.0|  0.5|    0.5|       0.0|         0.0|     null|                  0.3|        18.3|           1|        1|                null|\n",
      "|       1| 1546301342000000000|  1546301870000000000|                 N|         1|         256|          80|              1|          1.2|        7.5|  0.5|    0.5|       5.2|         0.0|     null|                  0.3|        14.0|           1|        1|                null|\n",
      "|       1| 1546302132000000000|  1546302329000000000|                 N|         1|          80|          80|              1|          0.5|        4.0|  0.5|    0.5|       0.0|         0.0|     null|                  0.3|         5.3|           2|        1|                null|\n",
      "|       1| 1546302715000000000|  1546303979000000000|                 N|         1|         256|         229|              1|          5.5|       19.5|  0.5|    0.5|      4.15|         0.0|     null|                  0.3|       24.95|           1|        1|                null|\n",
      "|       2| 1546302620000000000|  1546304059000000000|                 N|         1|         255|         231|              1|         5.01|       20.0|  0.5|    0.5|      4.26|         0.0|     null|                  0.3|       25.56|           1|        1|                null|\n",
      "|       2| 1546300686000000000|  1546300857000000000|                 N|         1|         146|           7|              1|         0.43|        4.0|  0.5|    0.5|      1.06|         0.0|     null|                  0.3|        6.36|           1|        1|                null|\n",
      "|       2| 1546303217000000000|  1546303823000000000|                 N|         1|         146|         129|              1|         2.72|       10.5|  0.5|    0.5|      2.36|         0.0|     null|                  0.3|       14.16|           1|        1|                null|\n",
      "+--------+--------------------+---------------------+------------------+----------+------------+------------+---------------+-------------+-----------+-----+-------+----------+------------+---------+---------------------+------------+------------+---------+--------------------+\n",
      "only showing top 20 rows\n",
      "\n"
     ]
    }
   ],
   "source": [
    "df_green = spark.read \\\n",
    "    .option(\"header\", \"true\") \\\n",
    "    .parquet(data_folder+data_green)\n",
    "    \n",
    "df_green.show()"
   ]
  },
  {
   "cell_type": "code",
   "execution_count": 42,
   "id": "0e8a8fd7-444c-494f-b0f6-68c3ed4f4718",
   "metadata": {},
   "outputs": [
    {
     "name": "stdout",
     "output_type": "stream",
     "text": [
      "+-------------------+-------------------+\n",
      "|   dropoff_datetime|    pickup_datetime|\n",
      "+-------------------+-------------------+\n",
      "|2018-12-21 15:18:57|2018-12-21 15:17:29|\n",
      "|2019-01-01 00:16:32|2019-01-01 00:10:16|\n",
      "|2019-01-01 00:31:38|2019-01-01 00:27:11|\n",
      "|2019-01-01 01:04:54|2019-01-01 00:46:20|\n",
      "|2019-01-01 00:39:43|2019-01-01 00:19:06|\n",
      "|2019-01-01 00:19:09|2019-01-01 00:12:35|\n",
      "|2019-01-01 01:00:01|2019-01-01 00:47:55|\n",
      "|2019-01-01 00:30:50|2019-01-01 00:12:47|\n",
      "|2019-01-01 00:39:46|2019-01-01 00:16:23|\n",
      "|2019-01-01 01:19:02|2019-01-01 00:58:02|\n",
      "+-------------------+-------------------+\n",
      "only showing top 10 rows\n",
      "\n"
     ]
    }
   ],
   "source": [
    "df_green =df_green \\\n",
    "    .withColumn('pickup_datetime', F.to_timestamp((df_green[\"lpep_pickup_datetime\"])/10e8)) \\\n",
    "    .withColumn('dropoff_datetime', F.to_timestamp((df_green[\"lpep_dropoff_datetime\"])/10e8)) \\\n",
    "    .drop('lpep_pickup_datetime').drop('lpep_dropoff_datetime')\n",
    "\n",
    "df_green \\\n",
    ".select('dropoff_datetime', 'pickup_datetime').show(10)"
   ]
  },
  {
   "cell_type": "code",
   "execution_count": 44,
   "id": "49fb228b-ee7a-4d62-ad90-5193e011e959",
   "metadata": {},
   "outputs": [
    {
     "name": "stdout",
     "output_type": "stream",
     "text": [
      "Converting green_tripdata_2019-01.parquet to partitioned file.\n"
     ]
    },
    {
     "name": "stderr",
     "output_type": "stream",
     "text": [
      "                                                                                \r"
     ]
    },
    {
     "name": "stdout",
     "output_type": "stream",
     "text": [
      "Converting green_tripdata_2019-02.parquet to partitioned file.\n"
     ]
    },
    {
     "name": "stderr",
     "output_type": "stream",
     "text": [
      "                                                                                \r"
     ]
    },
    {
     "name": "stdout",
     "output_type": "stream",
     "text": [
      "Converting green_tripdata_2019-03.parquet to partitioned file.\n"
     ]
    },
    {
     "name": "stderr",
     "output_type": "stream",
     "text": [
      "                                                                                \r"
     ]
    },
    {
     "name": "stdout",
     "output_type": "stream",
     "text": [
      "Converting green_tripdata_2019-04.parquet to partitioned file.\n"
     ]
    },
    {
     "name": "stderr",
     "output_type": "stream",
     "text": [
      "                                                                                \r"
     ]
    },
    {
     "name": "stdout",
     "output_type": "stream",
     "text": [
      "Converting green_tripdata_2019-05.parquet to partitioned file.\n"
     ]
    },
    {
     "name": "stderr",
     "output_type": "stream",
     "text": [
      "                                                                                \r"
     ]
    },
    {
     "name": "stdout",
     "output_type": "stream",
     "text": [
      "Converting green_tripdata_2019-06.parquet to partitioned file.\n"
     ]
    },
    {
     "name": "stderr",
     "output_type": "stream",
     "text": [
      "                                                                                \r"
     ]
    },
    {
     "name": "stdout",
     "output_type": "stream",
     "text": [
      "Converting green_tripdata_2019-07.parquet to partitioned file.\n"
     ]
    },
    {
     "name": "stderr",
     "output_type": "stream",
     "text": [
      "                                                                                \r"
     ]
    },
    {
     "name": "stdout",
     "output_type": "stream",
     "text": [
      "Converting green_tripdata_2019-08.parquet to partitioned file.\n"
     ]
    },
    {
     "name": "stderr",
     "output_type": "stream",
     "text": [
      "                                                                                \r"
     ]
    },
    {
     "name": "stdout",
     "output_type": "stream",
     "text": [
      "Converting green_tripdata_2019-09.parquet to partitioned file.\n"
     ]
    },
    {
     "name": "stderr",
     "output_type": "stream",
     "text": [
      "                                                                                \r"
     ]
    },
    {
     "name": "stdout",
     "output_type": "stream",
     "text": [
      "Converting green_tripdata_2019-10.parquet to partitioned file.\n"
     ]
    },
    {
     "name": "stderr",
     "output_type": "stream",
     "text": [
      "                                                                                \r"
     ]
    },
    {
     "name": "stdout",
     "output_type": "stream",
     "text": [
      "Converting green_tripdata_2019-11.parquet to partitioned file.\n"
     ]
    },
    {
     "name": "stderr",
     "output_type": "stream",
     "text": [
      "                                                                                \r"
     ]
    },
    {
     "name": "stdout",
     "output_type": "stream",
     "text": [
      "Converting green_tripdata_2019-12.parquet to partitioned file.\n"
     ]
    },
    {
     "name": "stderr",
     "output_type": "stream",
     "text": [
      "                                                                                \r"
     ]
    },
    {
     "name": "stdout",
     "output_type": "stream",
     "text": [
      "Converting green_tripdata_2020-01.parquet to partitioned file.\n"
     ]
    },
    {
     "name": "stderr",
     "output_type": "stream",
     "text": [
      "                                                                                \r"
     ]
    },
    {
     "name": "stdout",
     "output_type": "stream",
     "text": [
      "Converting green_tripdata_2020-02.parquet to partitioned file.\n"
     ]
    },
    {
     "name": "stderr",
     "output_type": "stream",
     "text": [
      "                                                                                \r"
     ]
    },
    {
     "name": "stdout",
     "output_type": "stream",
     "text": [
      "Converting green_tripdata_2020-03.parquet to partitioned file.\n"
     ]
    },
    {
     "name": "stderr",
     "output_type": "stream",
     "text": [
      "                                                                                \r"
     ]
    },
    {
     "name": "stdout",
     "output_type": "stream",
     "text": [
      "Converting green_tripdata_2020-04.parquet to partitioned file.\n",
      "Converting green_tripdata_2020-05.parquet to partitioned file.\n",
      "Converting green_tripdata_2020-06.parquet to partitioned file.\n",
      "Converting green_tripdata_2020-07.parquet to partitioned file.\n",
      "Converting green_tripdata_2020-08.parquet to partitioned file.\n",
      "Converting green_tripdata_2020-09.parquet to partitioned file.\n",
      "Converting green_tripdata_2020-10.parquet to partitioned file.\n",
      "Converting green_tripdata_2020-11.parquet to partitioned file.\n",
      "Converting green_tripdata_2020-12.parquet to partitioned file.\n"
     ]
    }
   ],
   "source": [
    "years = [2019, 2020]\n",
    "for year in years:\n",
    "    for month in range (1,13):\n",
    "        pq_name = f'green_tripdata_{year}-{month:02d}.parquet'\n",
    "        print(f'Converting {pq_name} to partitioned file.')\n",
    "        df_green = spark.read \\\n",
    "            .option(\"header\", \"true\") \\\n",
    "            .parquet(data_folder+data_green+pq_name)\n",
    "            # .option(\"inferSchema\",\"true\") \\ we can use it, but it very expensive in terms of computing and time\n",
    "    \n",
    "        df_green \\\n",
    "            .withColumn('pickup_datetime', F.to_timestamp((df_green[\"lpep_pickup_datetime\"])/10e8)) \\\n",
    "            .withColumn('dropoff_datetime', F.to_timestamp((df_green[\"lpep_dropoff_datetime\"])/10e8)) \\\n",
    "            .drop('lpep_pickup_datetime').drop('lpep_dropoff_datetime') \\\n",
    "            .repartition(4) \\\n",
    "            .write.parquet(data_folder+data_green+parquet+pq_name)\n"
   ]
  },
  {
   "cell_type": "code",
   "execution_count": null,
   "id": "fa228bc4-548e-4624-a42d-f6927add5530",
   "metadata": {},
   "outputs": [],
   "source": []
  }
 ],
 "metadata": {
  "kernelspec": {
   "display_name": "Python 3 (ipykernel)",
   "language": "python",
   "name": "python3"
  },
  "language_info": {
   "codemirror_mode": {
    "name": "ipython",
    "version": 3
   },
   "file_extension": ".py",
   "mimetype": "text/x-python",
   "name": "python",
   "nbconvert_exporter": "python",
   "pygments_lexer": "ipython3",
   "version": "3.10.13"
  }
 },
 "nbformat": 4,
 "nbformat_minor": 5
}
