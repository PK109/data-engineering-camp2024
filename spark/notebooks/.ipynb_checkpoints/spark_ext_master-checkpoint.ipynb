{
 "cells": [
  {
   "cell_type": "code",
   "execution_count": 1,
   "id": "4e6729f6-b96b-4a94-8991-e7a299eeca24",
   "metadata": {},
   "outputs": [],
   "source": [
    "import pyspark\n",
    "from pyspark.sql import SparkSession\n",
    "from pyspark.sql import types, functions as F"
   ]
  },
  {
   "cell_type": "code",
   "execution_count": 2,
   "id": "999b56a0-6224-4f05-aadb-6569d9c77acd",
   "metadata": {},
   "outputs": [
    {
     "name": "stdout",
     "output_type": "stream",
     "text": [
      "24/08/10 10:05:56 WARN Utils: Your hostname, codespaces-0918c7 resolves to a loopback address: 127.0.0.1; using 10.0.0.98 instead (on interface eth0)\n",
      "24/08/10 10:05:56 WARN Utils: Set SPARK_LOCAL_IP if you need to bind to another address\n"
     ]
    },
    {
     "name": "stderr",
     "output_type": "stream",
     "text": [
      "Setting default log level to \"WARN\".\n",
      "To adjust logging level use sc.setLogLevel(newLevel). For SparkR, use setLogLevel(newLevel).\n"
     ]
    },
    {
     "name": "stdout",
     "output_type": "stream",
     "text": [
      "24/08/10 10:05:56 WARN NativeCodeLoader: Unable to load native-hadoop library for your platform... using builtin-java classes where applicable\n"
     ]
    }
   ],
   "source": [
    "spark = SparkSession.builder \\\n",
    "    .master(\"spark://codespaces-0918c7:7077\") \\\n",
    "    .appName('test') \\\n",
    "    .getOrCreate()"
   ]
  },
  {
   "cell_type": "code",
   "execution_count": 3,
   "id": "c5ae2ae6-d120-4b73-8e7c-d88291009c50",
   "metadata": {},
   "outputs": [],
   "source": [
    "data_green = 'taxi_data/green/pq/*/'\n",
    "data_yellow = 'taxi_data/yellow/pq/*/'"
   ]
  },
  {
   "cell_type": "code",
   "execution_count": 4,
   "id": "9811c80b-33d7-42e4-b91d-3b100e72ff34",
   "metadata": {},
   "outputs": [],
   "source": [
    "yellow_schema = types.StructType([\n",
    "    types.StructField(\"VendorID\", types.IntegerType(), True),\n",
    "    types.StructField(\"tpep_pickup_datetime\", types.TimestampType(), True),\n",
    "    types.StructField(\"tpep_dropoff_datetime\", types.TimestampType(), True),\n",
    "    types.StructField(\"passenger_count\", types.IntegerType(), True),\n",
    "    types.StructField(\"trip_distance\", types.DoubleType(), True),\n",
    "    types.StructField(\"RatecodeID\", types.IntegerType(), True),\n",
    "    types.StructField(\"store_and_fwd_flag\", types.StringType(), True),\n",
    "    types.StructField(\"PULocationID\", types.IntegerType(), True),\n",
    "    types.StructField(\"DOLocationID\", types.IntegerType(), True),\n",
    "    types.StructField(\"payment_type\", types.IntegerType(), True),\n",
    "    types.StructField(\"fare_amount\", types.DoubleType(), True),\n",
    "    types.StructField(\"extra\", types.DoubleType(), True),\n",
    "    types.StructField(\"mta_tax\", types.DoubleType(), True),\n",
    "    types.StructField(\"tip_amount\", types.DoubleType(), True),\n",
    "    types.StructField(\"tolls_amount\", types.DoubleType(), True),\n",
    "    types.StructField(\"improvement_surcharge\", types.DoubleType(), True),\n",
    "    types.StructField(\"total_amount\", types.DoubleType(), True),\n",
    "    types.StructField(\"congestion_surcharge\", types.DoubleType(), True)\n",
    "])"
   ]
  },
  {
   "cell_type": "code",
   "execution_count": 5,
   "id": "58f23ec1-fa95-4f6b-bc24-3466b3e24b28",
   "metadata": {},
   "outputs": [],
   "source": [
    "green_schema = types.StructType([\n",
    "    types.StructField('VendorID', types.IntegerType(), True),\n",
    "    types.StructField('pickup_datetime', types.TimestampType(), True),\n",
    "    types.StructField('dropoff_datetime', types.TimestampType(), True),\n",
    "    types.StructField('store_and_fwd_flag', types.StringType(), True),\n",
    "    types.StructField('RatecodeID', types.IntegerType(), True),\n",
    "    types.StructField('PULocationID', types.IntegerType(), True),\n",
    "    types.StructField('DOLocationID', types.IntegerType(), True),\n",
    "    types.StructField('passenger_count', types.IntegerType(), True),\n",
    "    types.StructField('trip_distance', types.DoubleType(), True),\n",
    "    types.StructField('fare_amount', types.DoubleType(), True),\n",
    "    types.StructField('extra', types.DoubleType(), True),\n",
    "    types.StructField('mta_tax', types.DoubleType(), True),\n",
    "    types.StructField('tip_amount', types.DoubleType(), True),\n",
    "    types.StructField('tolls_amount', types.DoubleType(), True),\n",
    "    types.StructField('ehail_fee', types.DoubleType(), True),\n",
    "    types.StructField('improvement_surcharge', types.DoubleType(), True),\n",
    "    types.StructField('total_amount', types.DoubleType(), True),\n",
    "    types.StructField('payment_type', types.IntegerType(), True),\n",
    "    types.StructField('trip_type', types.IntegerType(), True),\n",
    "    types.StructField('congestion_surcharge', types.DoubleType(), True)\n",
    "])"
   ]
  },
  {
   "cell_type": "code",
   "execution_count": 6,
   "id": "b25ee24e-746c-4dc1-a104-09d12d0c4f3d",
   "metadata": {
    "editable": true,
    "scrolled": true,
    "slideshow": {
     "slide_type": ""
    },
    "tags": []
   },
   "outputs": [],
   "source": [
    "df_yellow = spark.read \\\n",
    "    .schema(yellow_schema) \\\n",
    "    .parquet(data_yellow)"
   ]
  },
  {
   "cell_type": "code",
   "execution_count": 7,
   "id": "c3abaf77-570f-4f19-bfbb-a40572059380",
   "metadata": {
    "scrolled": true
   },
   "outputs": [],
   "source": [
    "df_green = spark.read \\\n",
    "    .schema(green_schema) \\\n",
    "    .parquet(data_green)"
   ]
  },
  {
   "cell_type": "code",
   "execution_count": 8,
   "id": "9a1a5091-8ff3-4efa-9778-be54752c8037",
   "metadata": {},
   "outputs": [],
   "source": [
    "df_yellow = df_yellow \\\n",
    "    .withColumnRenamed('tpep_pickup_datetime', 'pickup_datetime') \\\n",
    "    .withColumnRenamed('tpep_dropoff_datetime', 'dropoff_datetime')\n"
   ]
  },
  {
   "cell_type": "code",
   "execution_count": 9,
   "id": "8bd607cd-1c44-4952-ba53-c326c90ff0df",
   "metadata": {},
   "outputs": [],
   "source": [
    "common_columns = [col for col in df_green.columns if col in df_yellow.columns]"
   ]
  },
  {
   "cell_type": "code",
   "execution_count": 17,
   "id": "75306e8c-4510-4efa-af65-a6611238d3b1",
   "metadata": {},
   "outputs": [],
   "source": [
    "common_columns = [\n",
    "    ['VendorID'\n",
    "     , 'pickup_datetime'\n",
    "     , 'dropoff_datetime'\n",
    "     , 'store_and_fwd_flag'\n",
    "     , 'RatecodeID'\n",
    "     , 'PULocationID'\n",
    "     , 'DOLocationID'\n",
    "     , 'passenger_count'\n",
    "     , 'trip_distance'\n",
    "     , 'fare_amount'\n",
    "     , 'extra'\n",
    "     , 'mta_tax'\n",
    "     , 'tip_amount'\n",
    "     , 'tolls_amount'\n",
    "     , 'improvement_surcharge'\n",
    "     , 'total_amount'\n",
    "     , 'payment_type'\n",
    "     , 'congestion_surcharge']\n",
    "]\n"
   ]
  },
  {
   "cell_type": "code",
   "execution_count": 11,
   "id": "ab46728c-610b-4cc2-8fc7-02c3b5e3b387",
   "metadata": {},
   "outputs": [],
   "source": [
    "df_green_select = df_green \\\n",
    "    .select(common_columns) \\\n",
    "    .withColumn('service_type', F.lit('green'))"
   ]
  },
  {
   "cell_type": "code",
   "execution_count": 12,
   "id": "a0854b4c-85fa-4a07-a7bd-c611f79a4698",
   "metadata": {},
   "outputs": [],
   "source": [
    "df_yellow_select = df_yellow \\\n",
    "    .select(common_columns) \\\n",
    "    .withColumn('service_type', F.lit('yellow'))"
   ]
  },
  {
   "cell_type": "code",
   "execution_count": 13,
   "id": "8148b80c-bc10-4284-9c25-ec10b15f1f47",
   "metadata": {},
   "outputs": [
    {
     "name": "stderr",
     "output_type": "stream",
     "text": [
      "[Stage 0:=======================================================> (34 + 1) / 35]\r"
     ]
    },
    {
     "name": "stdout",
     "output_type": "stream",
     "text": [
      "+------------+---------+\n",
      "|service_type|    count|\n",
      "+------------+---------+\n",
      "|       green|  7778101|\n",
      "|      yellow|109047518|\n",
      "+------------+---------+\n",
      "\n"
     ]
    },
    {
     "name": "stderr",
     "output_type": "stream",
     "text": [
      "                                                                                \r"
     ]
    }
   ],
   "source": [
    "df_union = df_green_select.unionAll(df_yellow_select)\n",
    "df_union.groupby('service_type').count().show()"
   ]
  },
  {
   "cell_type": "code",
   "execution_count": 14,
   "id": "82d997f1-140e-4bd6-853a-0c36df33d3a0",
   "metadata": {},
   "outputs": [],
   "source": [
    "df_union.createOrReplaceTempView('trips_data')"
   ]
  },
  {
   "cell_type": "code",
   "execution_count": 15,
   "id": "27995039-a3ff-42c8-9eb5-9e916c9c1934",
   "metadata": {},
   "outputs": [],
   "source": [
    "df_result = spark.sql(\"\"\"\n",
    "SELECT \n",
    "    -- Reveneue grouping \n",
    "    PULocationID AS revenue_zone,\n",
    "    date_trunc('month', pickup_datetime) AS revenue_month, \n",
    "    service_type, \n",
    "\n",
    "    -- Revenue calculation \n",
    "    SUM(fare_amount) AS revenue_monthly_fare,\n",
    "    SUM(extra) AS revenue_monthly_extra,\n",
    "    SUM(mta_tax) AS revenue_monthly_mta_tax,\n",
    "    SUM(tip_amount) AS revenue_monthly_tip_amount,\n",
    "    SUM(tolls_amount) AS revenue_monthly_tolls_amount,\n",
    "    SUM(improvement_surcharge) AS revenue_monthly_improvement_surcharge,\n",
    "    SUM(total_amount) AS revenue_monthly_total_amount,\n",
    "    SUM(congestion_surcharge) AS revenue_monthly_congestion_surcharge,\n",
    "\n",
    "    -- Additional calculations\n",
    "    AVG(passenger_count) AS avg_montly_passenger_count,\n",
    "    AVG(trip_distance) AS avg_montly_trip_distance\n",
    "FROM\n",
    "    trips_data\n",
    "GROUP BY\n",
    "    revenue_zone,revenue_month, service_type\n",
    "\"\"\")"
   ]
  },
  {
   "cell_type": "code",
   "execution_count": 66,
   "id": "a775b308-8708-415b-b9df-46235c5eb5ba",
   "metadata": {
    "scrolled": true
   },
   "outputs": [
    {
     "name": "stderr",
     "output_type": "stream",
     "text": [
      "                                                                                \r"
     ]
    }
   ],
   "source": [
    "df_result.coalesce(1).write.parquet('taxi_data/report/revenue/', mode='overwrite')"
   ]
  },
  {
   "cell_type": "code",
   "execution_count": null,
   "id": "889f349d-865a-40db-9c73-a40f13c9a65e",
   "metadata": {},
   "outputs": [],
   "source": []
  }
 ],
 "metadata": {
  "kernelspec": {
   "display_name": "Python 3 (ipykernel)",
   "language": "python",
   "name": "python3"
  },
  "language_info": {
   "codemirror_mode": {
    "name": "ipython",
    "version": 3
   },
   "file_extension": ".py",
   "mimetype": "text/x-python",
   "name": "python",
   "nbconvert_exporter": "python",
   "pygments_lexer": "ipython3",
   "version": "3.10.13"
  }
 },
 "nbformat": 4,
 "nbformat_minor": 5
}
